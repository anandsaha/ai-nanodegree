{
 "cells": [
  {
   "cell_type": "markdown",
   "metadata": {},
   "source": [
    "### Get basic data structures ready"
   ]
  },
  {
   "cell_type": "code",
   "execution_count": 1,
   "metadata": {
    "collapsed": true
   },
   "outputs": [],
   "source": [
    "rows = \"ABCDEFGHI\"\n",
    "cols = \"123456789\"\n",
    "\n",
    "\n",
    "\n",
    "def cross(a, b):\n",
    "      return [s+t for s in a for t in b]"
   ]
  },
  {
   "cell_type": "code",
   "execution_count": 2,
   "metadata": {
    "collapsed": true
   },
   "outputs": [],
   "source": [
    "all_boxes = [r+c for r in rows for c in cols]"
   ]
  },
  {
   "cell_type": "code",
   "execution_count": 3,
   "metadata": {
    "collapsed": false
   },
   "outputs": [],
   "source": [
    "row_units = [[r + c for c in cols] for r in rows]"
   ]
  },
  {
   "cell_type": "code",
   "execution_count": 4,
   "metadata": {
    "collapsed": false
   },
   "outputs": [],
   "source": [
    "col_units = [[r + c for r in rows] for c in cols]"
   ]
  },
  {
   "cell_type": "code",
   "execution_count": 5,
   "metadata": {
    "collapsed": false
   },
   "outputs": [],
   "source": [
    "square_units = [cross (r, c) for r in ['ABC', 'DEF', 'GHI'] for c in ['123', '456', '789']]"
   ]
  },
  {
   "cell_type": "code",
   "execution_count": 6,
   "metadata": {
    "collapsed": true
   },
   "outputs": [],
   "source": [
    "unitlist = row_units + col_units + square_units"
   ]
  },
  {
   "cell_type": "code",
   "execution_count": 7,
   "metadata": {
    "collapsed": false
   },
   "outputs": [],
   "source": [
    "units = dict((s, [u for u in unitlist if s in u]) for s in all_boxes)\n",
    "peers = dict((s, set(sum(units[s],[]))-set([s])) for s in all_boxes)\n"
   ]
  },
  {
   "cell_type": "markdown",
   "metadata": {},
   "source": [
    "## Some helper functions"
   ]
  },
  {
   "cell_type": "code",
   "execution_count": 8,
   "metadata": {
    "collapsed": false
   },
   "outputs": [],
   "source": [
    "# Convert string representation to key:value representation\n",
    "def str_to_grid(string):\n",
    "    values = dict((rows[r] + cols[c], string[r * 9 + c])  for c in range(9) for r in range(9))\n",
    "    return values\n",
    "\n",
    "\n",
    "def display_grid(grid):\n",
    "    for r in rows:\n",
    "        for c in cols:\n",
    "            print('{0: <10}'.format(grid[r + c]), end='')\n",
    "        print('')\n",
    "\n",
    "\n",
    "def replace_dots_with_numbers(grid):\n",
    "    for v in grid:\n",
    "        if grid[v] == '.':\n",
    "            grid[v] = '123456789'\n",
    "            \n",
    "    return grid\n",
    "\n",
    "def validate(grid):\n",
    "    for unit in unitlist:\n",
    "        s = set()\n",
    "        for u in unit:\n",
    "            if grid[u] in list('123456789'):\n",
    "                s.add(grid[u])\n",
    "        if len(s) != 9:\n",
    "            return False\n",
    "        \n",
    "    return True\n",
    "            \n",
    "\n"
   ]
  },
  {
   "cell_type": "markdown",
   "metadata": {},
   "source": [
    "## Elimination step\n",
    "\n",
    "In this, we inspect boxes with one element. We know that that element will not repeat in any of the peers boxes. So we eliminate that element from all peer boxes."
   ]
  },
  {
   "cell_type": "code",
   "execution_count": 9,
   "metadata": {
    "collapsed": true
   },
   "outputs": [],
   "source": [
    "def eliminate(grid):\n",
    "    # extract all boxes with just one number\n",
    "    singles = []\n",
    "    for b in grid:\n",
    "        if len(grid[b]) == 1:\n",
    "            singles.append(b)\n",
    "            \n",
    "    for s in singles:\n",
    "        for p in peers[s]:\n",
    "            #print(\"Eliminating {0} from {1} at location {2}\".format(grid[s], grid[p], p))\n",
    "            grid[p] = grid[p].replace(grid[s], '')\n",
    "    return grid\n",
    "            "
   ]
  },
  {
   "cell_type": "markdown",
   "metadata": {},
   "source": [
    "## Only Choice step\n",
    "\n",
    "In this we look at boxes with multiple options, and inspect if there is one out of the multiple options which only that box can be assigned to. If so - we do the assignment."
   ]
  },
  {
   "cell_type": "code",
   "execution_count": 10,
   "metadata": {
    "collapsed": true
   },
   "outputs": [],
   "source": [
    "def only_choice(grid):\n",
    "\n",
    "    for unit in unitlist:\n",
    "        for box in unit:\n",
    "            v = grid[box]\n",
    "            if len(v) > 1:\n",
    "                for d in '123456789':\n",
    "                    if d in v:\n",
    "                        update = True\n",
    "                        for box1 in unit:\n",
    "                            if box != box1 and d in grid[box1]:\n",
    "                                update = False\n",
    "                        if update:\n",
    "                            #print(\"Assigning {0} to {1}\".format(d, grid[box]))\n",
    "                            grid[box] = d\n",
    "                    \n",
    "    return grid\n",
    "                        "
   ]
  },
  {
   "cell_type": "markdown",
   "metadata": {},
   "source": [
    "## Constraing propagation\n",
    "\n",
    "Apply Elimination and Only Choice steps in succession till the search space is reduced"
   ]
  },
  {
   "cell_type": "code",
   "execution_count": 11,
   "metadata": {
    "collapsed": true
   },
   "outputs": [],
   "source": [
    "def reduce_grid(grid):\n",
    "    stagnent = False\n",
    "    while not stagnent:\n",
    "        #print('.')\n",
    "        solved_values_before = len([box for box in grid.keys() if len(grid[box]) == 1])\n",
    "        grid = eliminate(grid)\n",
    "        grid = only_choice(grid)\n",
    "        solved_values_after = len([box for box in grid.keys() if len(grid[box]) == 1])\n",
    "        \n",
    "        if solved_values_before == solved_values_after:\n",
    "            stagnent = True\n",
    "            \n",
    "        if len([box for box in grid.keys() if len(grid[box]) == 0]):\n",
    "            return False\n",
    "    return grid"
   ]
  },
  {
   "cell_type": "code",
   "execution_count": 12,
   "metadata": {
    "collapsed": false
   },
   "outputs": [
    {
     "name": "stdout",
     "output_type": "stream",
     "text": [
      "4         123456789 123456789 123456789 123456789 123456789 8         123456789 5         \n",
      "123456789 3         123456789 123456789 123456789 123456789 123456789 123456789 123456789 \n",
      "123456789 123456789 123456789 7         123456789 123456789 123456789 123456789 123456789 \n",
      "123456789 2         123456789 123456789 123456789 123456789 123456789 6         123456789 \n",
      "123456789 123456789 123456789 123456789 8         123456789 4         123456789 123456789 \n",
      "123456789 123456789 123456789 123456789 1         123456789 123456789 123456789 123456789 \n",
      "123456789 123456789 123456789 6         123456789 3         123456789 7         123456789 \n",
      "5         123456789 123456789 2         123456789 123456789 123456789 123456789 123456789 \n",
      "1         123456789 4         123456789 123456789 123456789 123456789 123456789 123456789 \n",
      "========\n",
      "========\n",
      "4         1679      12679     139       2369      269       8         1239      5         \n",
      "26789     3         1256789   14589     24569     245689    12679     1249      124679    \n",
      "2689      15689     125689    7         234569    245689    12369     12349     123469    \n",
      "3789      2         15789     3459      34579     4579      13579     6         13789     \n",
      "3679      15679     15679     359       8         25679     4         12359     12379     \n",
      "36789     4         56789     359       1         25679     23579     23589     23789     \n",
      "289       89        289       6         459       3         1259      7         12489     \n",
      "5         6789      3         2         479       1         69        489       4689      \n",
      "1         6789      4         589       579       5789      23569     23589     23689     \n"
     ]
    },
    {
     "data": {
      "text/plain": [
       "False"
      ]
     },
     "execution_count": 12,
     "metadata": {},
     "output_type": "execute_result"
    }
   ],
   "source": [
    "str_to_solve = '..3.2.6..9..3.5..1..18.64....81.29..7.......8..67.82....26.95..8..2.3..9..5.1.3..'\n",
    "str_to_solve = \"4.....8.5.3..........7......2.....6.....8.4......1.......6.3.7.5..2.....1.4......\"\n",
    "grid = str_to_grid(str_to_solve)\n",
    "grid = replace_dots_with_numbers(grid)\n",
    "display_grid(grid)\n",
    "print('========')\n",
    "grid = reduce_grid(grid)\n",
    "print('========')\n",
    "display_grid(grid)\n",
    "validate(grid)\n"
   ]
  },
  {
   "cell_type": "markdown",
   "metadata": {},
   "source": [
    "## Search\n"
   ]
  },
  {
   "cell_type": "code",
   "execution_count": 13,
   "metadata": {
    "collapsed": true
   },
   "outputs": [],
   "source": [
    "def search(grid):\n",
    "    \n",
    "    grid = reduce_grid(grid)\n",
    "    \n",
    "    if grid == False:\n",
    "        return False\n",
    "    \n",
    "    index = None\n",
    "    for b in grid:\n",
    "        if len(grid[b]) > 1:\n",
    "            index = b\n",
    "            break\n",
    "            \n",
    "    if index is None:\n",
    "        return grid\n",
    "    \n",
    "    elements = grid[index]\n",
    "    \n",
    "    for e in elements:\n",
    "        grid_copy = grid.copy()\n",
    "        grid_copy[index] = e\n",
    "        attempt = search(grid_copy)\n",
    "        if attempt:\n",
    "            return attempt\n",
    "        \n",
    "\n",
    "        \n",
    "        "
   ]
  },
  {
   "cell_type": "code",
   "execution_count": 14,
   "metadata": {
    "collapsed": true
   },
   "outputs": [],
   "source": [
    "\n",
    "\n",
    "def search1(values):\n",
    "    \"Using depth-first search and propagation, create a search tree and solve the sudoku.\"\n",
    "    # First, reduce the puzzle using the previous function\n",
    "    values = reduce_grid(values)\n",
    "    \n",
    "    if values == False:\n",
    "        return False\n",
    "    \n",
    "    # Choose one of the unfilled squares with the fewest possibilities\n",
    "    \n",
    "    v_index = None\n",
    "    for v in values:\n",
    "        if len(values[v]) > 1:\n",
    "            v_index = v\n",
    "            break\n",
    "        \n",
    "    if v_index is None:\n",
    "        return values # Nothing to solve further\n",
    "    \n",
    "    # Now use recursion to solve each one of the resulting sudokus, and if one returns a value (not False), return that answer!\n",
    "    vlist = values[v_index]\n",
    "    for d in vlist:\n",
    "        vcopy = values.copy()\n",
    "        vcopy[v_index] = d\n",
    "        vattempt = search(vcopy)\n",
    "        if vattempt:\n",
    "            return vattempt\n",
    "    \n",
    "\n",
    "    # If you're stuck, see the solution.py tab!"
   ]
  },
  {
   "cell_type": "code",
   "execution_count": 14,
   "metadata": {
    "collapsed": false
   },
   "outputs": [
    {
     "name": "stdout",
     "output_type": "stream",
     "text": [
      "4         123456789 123456789 123456789 123456789 123456789 8         123456789 5         \n",
      "123456789 3         123456789 123456789 123456789 123456789 123456789 123456789 123456789 \n",
      "123456789 123456789 123456789 7         123456789 123456789 123456789 123456789 123456789 \n",
      "123456789 2         123456789 123456789 123456789 123456789 123456789 6         123456789 \n",
      "123456789 123456789 123456789 123456789 8         123456789 4         123456789 123456789 \n",
      "123456789 123456789 123456789 123456789 1         123456789 123456789 123456789 123456789 \n",
      "123456789 123456789 123456789 6         123456789 3         123456789 7         123456789 \n",
      "5         123456789 123456789 2         123456789 123456789 123456789 123456789 123456789 \n",
      "1         123456789 4         123456789 123456789 123456789 123456789 123456789 123456789 \n",
      "4         1         7         3         6         9         8         2         5         \n",
      "6         3         2         1         5         8         9         4         7         \n",
      "9         5         8         7         2         4         3         1         6         \n",
      "8         2         5         4         3         7         1         6         9         \n",
      "7         9         1         5         8         6         4         3         2         \n",
      "3         4         6         9         1         2         7         5         8         \n",
      "2         8         9         6         4         3         5         7         1         \n",
      "5         7         3         2         9         1         6         8         4         \n",
      "1         6         4         8         7         5         2         9         3         \n"
     ]
    },
    {
     "data": {
      "text/plain": [
       "True"
      ]
     },
     "execution_count": 14,
     "metadata": {},
     "output_type": "execute_result"
    }
   ],
   "source": [
    "str_to_solve = '4.....8.5.3..........7......2.....6.....8.4......1.......6.3.7.5..2.....1.4......'\n",
    "str_to_solve = '4.....8.5.3..........7......2.....6.....8.4......1.......6.3.7.5..2.....1.4......'\n",
    "grid = str_to_grid(str_to_solve)\n",
    "grid = replace_dots_with_numbers(grid)\n",
    "display_grid(grid)\n",
    "grid = search(grid)\n",
    "display_grid(grid)\n",
    "validate(grid)\n"
   ]
  }
 ],
 "metadata": {
  "kernelspec": {
   "display_name": "Python 3",
   "language": "python",
   "name": "python3"
  },
  "language_info": {
   "codemirror_mode": {
    "name": "ipython",
    "version": 3
   },
   "file_extension": ".py",
   "mimetype": "text/x-python",
   "name": "python",
   "nbconvert_exporter": "python",
   "pygments_lexer": "ipython3",
   "version": "3.4.5"
  }
 },
 "nbformat": 4,
 "nbformat_minor": 2
}

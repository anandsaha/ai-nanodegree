{
 "cells": [
  {
   "cell_type": "code",
   "execution_count": 1,
   "metadata": {
    "collapsed": true
   },
   "outputs": [],
   "source": [
    "from keras.datasets import mnist"
   ]
  },
  {
   "cell_type": "code",
   "execution_count": 18,
   "metadata": {
    "collapsed": true
   },
   "outputs": [],
   "source": [
    "(x_train, y_train), (x_test, y_test) = mnist.load_data()"
   ]
  },
  {
   "cell_type": "code",
   "execution_count": 19,
   "metadata": {},
   "outputs": [],
   "source": [
    "x_train = x_train.reshape(60000, 784)\n",
    "x_test = x_test.reshape(10000, 784)"
   ]
  },
  {
   "cell_type": "code",
   "execution_count": 20,
   "metadata": {
    "collapsed": true
   },
   "outputs": [],
   "source": [
    "x_train = x_train.astype('float32') / 255\n",
    "x_test = x_test.astype('float32') / 255"
   ]
  },
  {
   "cell_type": "code",
   "execution_count": 21,
   "metadata": {
    "collapsed": true
   },
   "outputs": [],
   "source": [
    "from sklearn.preprocessing import LabelBinarizer"
   ]
  },
  {
   "cell_type": "code",
   "execution_count": 22,
   "metadata": {
    "collapsed": true
   },
   "outputs": [],
   "source": [
    "lb = LabelBinarizer()"
   ]
  },
  {
   "cell_type": "code",
   "execution_count": 23,
   "metadata": {},
   "outputs": [
    {
     "data": {
      "text/plain": [
       "LabelBinarizer(neg_label=0, pos_label=1, sparse_output=False)"
      ]
     },
     "execution_count": 23,
     "metadata": {},
     "output_type": "execute_result"
    }
   ],
   "source": [
    "lb.fit(y_train)"
   ]
  },
  {
   "cell_type": "code",
   "execution_count": 24,
   "metadata": {
    "collapsed": true
   },
   "outputs": [],
   "source": [
    "y_train_encoded = lb.transform(y_train)\n",
    "y_test_encoded = lb.transform(y_test)"
   ]
  },
  {
   "cell_type": "code",
   "execution_count": 28,
   "metadata": {},
   "outputs": [
    {
     "name": "stdout",
     "output_type": "stream",
     "text": [
      "3\n",
      "[0 0 0 1 0 0 0 0 0 0]\n"
     ]
    }
   ],
   "source": [
    "print(y_train[10])\n",
    "print(y_train_encoded[10])"
   ]
  },
  {
   "cell_type": "code",
   "execution_count": 41,
   "metadata": {
    "collapsed": true
   },
   "outputs": [],
   "source": [
    "from keras.models import Sequential\n",
    "from keras.layers.core import Dense\n",
    "from keras.layers import Dropout\n",
    "from keras.callbacks import ModelCheckpoint"
   ]
  },
  {
   "cell_type": "code",
   "execution_count": 62,
   "metadata": {
    "collapsed": true
   },
   "outputs": [],
   "source": [
    "model = Sequential()\n",
    "model.add(Dense(32, input_dim=784))\n",
    "model.add(Dense(512, activation='relu'))\n",
    "model.add(Dropout(0.2))\n",
    "model.add(Dense(512, activation='relu'))\n",
    "model.add(Dropout(0.2))\n",
    "model.add(Dense(10, activation='softmax'))"
   ]
  },
  {
   "cell_type": "code",
   "execution_count": 63,
   "metadata": {},
   "outputs": [
    {
     "name": "stdout",
     "output_type": "stream",
     "text": [
      "_________________________________________________________________\n",
      "Layer (type)                 Output Shape              Param #   \n",
      "=================================================================\n",
      "dense_27 (Dense)             (None, 32)                25120     \n",
      "_________________________________________________________________\n",
      "dense_28 (Dense)             (None, 512)               16896     \n",
      "_________________________________________________________________\n",
      "dropout_10 (Dropout)         (None, 512)               0         \n",
      "_________________________________________________________________\n",
      "dense_29 (Dense)             (None, 512)               262656    \n",
      "_________________________________________________________________\n",
      "dropout_11 (Dropout)         (None, 512)               0         \n",
      "_________________________________________________________________\n",
      "dense_30 (Dense)             (None, 10)                5130      \n",
      "=================================================================\n",
      "Total params: 309,802\n",
      "Trainable params: 309,802\n",
      "Non-trainable params: 0\n",
      "_________________________________________________________________\n"
     ]
    }
   ],
   "source": [
    "model.summary()"
   ]
  },
  {
   "cell_type": "code",
   "execution_count": 64,
   "metadata": {
    "collapsed": true
   },
   "outputs": [],
   "source": [
    "model.compile(optimizer='rmsprop', loss='categorical_crossentropy', metrics=['accuracy'])"
   ]
  },
  {
   "cell_type": "code",
   "execution_count": 65,
   "metadata": {
    "collapsed": true
   },
   "outputs": [],
   "source": [
    "earlystop = ModelCheckpoint(filepath='mnist.hd5', verbose=1, save_best_only=True)"
   ]
  },
  {
   "cell_type": "code",
   "execution_count": 67,
   "metadata": {},
   "outputs": [
    {
     "name": "stdout",
     "output_type": "stream",
     "text": [
      "Train on 48000 samples, validate on 12000 samples\n",
      "Epoch 1/10\n",
      "47744/48000 [============================>.] - ETA: 0s - loss: 0.1291 - acc: 0.9619Epoch 00000: val_loss improved from 0.17380 to 0.11202, saving model to mnist.hd5\n",
      "48000/48000 [==============================] - 8s - loss: 0.1292 - acc: 0.9620 - val_loss: 0.1120 - val_acc: 0.9662\n",
      "Epoch 2/10\n",
      "47872/48000 [============================>.] - ETA: 0s - loss: 0.1029 - acc: 0.9690Epoch 00001: val_loss improved from 0.11202 to 0.09610, saving model to mnist.hd5\n",
      "48000/48000 [==============================] - 9s - loss: 0.1026 - acc: 0.9691 - val_loss: 0.0961 - val_acc: 0.9717\n",
      "Epoch 3/10\n",
      "47616/48000 [============================>.] - ETA: 0s - loss: 0.0887 - acc: 0.9732Epoch 00002: val_loss did not improve\n",
      "48000/48000 [==============================] - 9s - loss: 0.0887 - acc: 0.9732 - val_loss: 0.1072 - val_acc: 0.9680\n",
      "Epoch 4/10\n",
      "47744/48000 [============================>.] - ETA: 0s - loss: 0.0779 - acc: 0.9762Epoch 00003: val_loss did not improve\n",
      "48000/48000 [==============================] - 10s - loss: 0.0781 - acc: 0.9761 - val_loss: 0.1104 - val_acc: 0.9700\n",
      "Epoch 5/10\n",
      "47744/48000 [============================>.] - ETA: 0s - loss: 0.0733 - acc: 0.9778Epoch 00004: val_loss did not improve\n",
      "48000/48000 [==============================] - 11s - loss: 0.0730 - acc: 0.9778 - val_loss: 0.0983 - val_acc: 0.9728\n",
      "Epoch 6/10\n",
      "47744/48000 [============================>.] - ETA: 0s - loss: 0.0672 - acc: 0.9798Epoch 00005: val_loss did not improve\n",
      "48000/48000 [==============================] - 10s - loss: 0.0672 - acc: 0.9798 - val_loss: 0.0978 - val_acc: 0.9747\n",
      "Epoch 7/10\n",
      "47872/48000 [============================>.] - ETA: 0s - loss: 0.0645 - acc: 0.9807Epoch 00006: val_loss did not improve\n",
      "48000/48000 [==============================] - 11s - loss: 0.0645 - acc: 0.9807 - val_loss: 0.1047 - val_acc: 0.9739\n",
      "Epoch 8/10\n",
      "47744/48000 [============================>.] - ETA: 0s - loss: 0.0599 - acc: 0.9814Epoch 00007: val_loss did not improve\n",
      "48000/48000 [==============================] - 11s - loss: 0.0597 - acc: 0.9814 - val_loss: 0.1175 - val_acc: 0.9698\n",
      "Epoch 9/10\n",
      "47744/48000 [============================>.] - ETA: 0s - loss: 0.0550 - acc: 0.9827Epoch 00008: val_loss did not improve\n",
      "48000/48000 [==============================] - 11s - loss: 0.0550 - acc: 0.9827 - val_loss: 0.1013 - val_acc: 0.9761\n",
      "Epoch 10/10\n",
      "47744/48000 [============================>.] - ETA: 0s - loss: 0.0508 - acc: 0.9850Epoch 00009: val_loss did not improve\n",
      "48000/48000 [==============================] - 11s - loss: 0.0508 - acc: 0.9850 - val_loss: 0.1108 - val_acc: 0.9763\n"
     ]
    },
    {
     "data": {
      "text/plain": [
       "<keras.callbacks.History at 0x7f9f5e16dcf8>"
      ]
     },
     "execution_count": 67,
     "metadata": {},
     "output_type": "execute_result"
    }
   ],
   "source": [
    "model.fit(x_train, y_train_encoded, epochs=10, batch_size=128, \n",
    "          callbacks=[earlystop], validation_split=0.2, shuffle=True)"
   ]
  },
  {
   "cell_type": "code",
   "execution_count": 68,
   "metadata": {
    "collapsed": true
   },
   "outputs": [],
   "source": [
    "model.load_weights('mnist.hd5')"
   ]
  },
  {
   "cell_type": "code",
   "execution_count": 69,
   "metadata": {},
   "outputs": [
    {
     "name": "stdout",
     "output_type": "stream",
     "text": [
      " 9888/10000 [============================>.] - ETA: 0s"
     ]
    },
    {
     "data": {
      "text/plain": [
       "[0.098887110824906269, 0.96970000000000001]"
      ]
     },
     "execution_count": 69,
     "metadata": {},
     "output_type": "execute_result"
    }
   ],
   "source": [
    "model.evaluate(x_test, y_test_encoded, verbose=1)"
   ]
  }
 ],
 "metadata": {
  "kernelspec": {
   "display_name": "Python 3",
   "language": "python",
   "name": "python3"
  },
  "language_info": {
   "codemirror_mode": {
    "name": "ipython",
    "version": 3
   },
   "file_extension": ".py",
   "mimetype": "text/x-python",
   "name": "python",
   "nbconvert_exporter": "python",
   "pygments_lexer": "ipython3",
   "version": "3.5.3"
  }
 },
 "nbformat": 4,
 "nbformat_minor": 2
}

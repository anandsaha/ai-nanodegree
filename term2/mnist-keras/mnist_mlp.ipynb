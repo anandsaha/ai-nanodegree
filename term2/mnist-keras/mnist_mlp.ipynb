{
 "cells": [
  {
   "cell_type": "code",
   "execution_count": 1,
   "metadata": {},
   "outputs": [
    {
     "name": "stderr",
     "output_type": "stream",
     "text": [
      "Using TensorFlow backend.\n"
     ]
    }
   ],
   "source": [
    "from keras.datasets import mnist"
   ]
  },
  {
   "cell_type": "code",
   "execution_count": 2,
   "metadata": {
    "collapsed": true
   },
   "outputs": [],
   "source": [
    "(x_train, y_train), (x_test, y_test) = mnist.load_data()"
   ]
  },
  {
   "cell_type": "code",
   "execution_count": 3,
   "metadata": {
    "collapsed": true
   },
   "outputs": [],
   "source": [
    "x_train = x_train.reshape(60000, 784)\n",
    "x_test = x_test.reshape(10000, 784)"
   ]
  },
  {
   "cell_type": "code",
   "execution_count": 4,
   "metadata": {
    "collapsed": true
   },
   "outputs": [],
   "source": [
    "x_train = x_train.astype('float32') / 255\n",
    "x_test = x_test.astype('float32') / 255"
   ]
  },
  {
   "cell_type": "code",
   "execution_count": 5,
   "metadata": {
    "collapsed": true
   },
   "outputs": [],
   "source": [
    "from sklearn.preprocessing import LabelBinarizer"
   ]
  },
  {
   "cell_type": "code",
   "execution_count": 6,
   "metadata": {
    "collapsed": true
   },
   "outputs": [],
   "source": [
    "lb = LabelBinarizer()"
   ]
  },
  {
   "cell_type": "code",
   "execution_count": 7,
   "metadata": {},
   "outputs": [
    {
     "data": {
      "text/plain": [
       "LabelBinarizer(neg_label=0, pos_label=1, sparse_output=False)"
      ]
     },
     "execution_count": 7,
     "metadata": {},
     "output_type": "execute_result"
    }
   ],
   "source": [
    "lb.fit(y_train)"
   ]
  },
  {
   "cell_type": "code",
   "execution_count": 8,
   "metadata": {
    "collapsed": true
   },
   "outputs": [],
   "source": [
    "y_train_encoded = lb.transform(y_train)\n",
    "y_test_encoded = lb.transform(y_test)"
   ]
  },
  {
   "cell_type": "code",
   "execution_count": 9,
   "metadata": {},
   "outputs": [
    {
     "name": "stdout",
     "output_type": "stream",
     "text": [
      "3\n",
      "[0 0 0 1 0 0 0 0 0 0]\n"
     ]
    }
   ],
   "source": [
    "print(y_train[10])\n",
    "print(y_train_encoded[10])"
   ]
  },
  {
   "cell_type": "code",
   "execution_count": 26,
   "metadata": {
    "collapsed": true
   },
   "outputs": [],
   "source": [
    "from keras.models import Sequential\n",
    "from keras.layers.core import Dense\n",
    "from keras.layers import Dropout\n",
    "from keras.callbacks import ModelCheckpoint"
   ]
  },
  {
   "cell_type": "code",
   "execution_count": 27,
   "metadata": {
    "collapsed": true
   },
   "outputs": [],
   "source": [
    "model = Sequential()\n",
    "model.add(Dense(32, input_dim=784))\n",
    "model.add(Dense(512, activation='relu'))\n",
    "model.add(Dropout(0.2))\n",
    "model.add(Dense(512, activation='relu'))\n",
    "model.add(Dropout(0.2))\n",
    "model.add(Dense(512, activation='relu'))\n",
    "model.add(Dropout(0.2))\n",
    "model.add(Dense(10, activation='softmax'))"
   ]
  },
  {
   "cell_type": "code",
   "execution_count": 28,
   "metadata": {},
   "outputs": [
    {
     "name": "stdout",
     "output_type": "stream",
     "text": [
      "_________________________________________________________________\n",
      "Layer (type)                 Output Shape              Param #   \n",
      "=================================================================\n",
      "dense_9 (Dense)              (None, 32)                25120     \n",
      "_________________________________________________________________\n",
      "dense_10 (Dense)             (None, 512)               16896     \n",
      "_________________________________________________________________\n",
      "dropout_5 (Dropout)          (None, 512)               0         \n",
      "_________________________________________________________________\n",
      "dense_11 (Dense)             (None, 512)               262656    \n",
      "_________________________________________________________________\n",
      "dropout_6 (Dropout)          (None, 512)               0         \n",
      "_________________________________________________________________\n",
      "dense_12 (Dense)             (None, 512)               262656    \n",
      "_________________________________________________________________\n",
      "dropout_7 (Dropout)          (None, 512)               0         \n",
      "_________________________________________________________________\n",
      "dense_13 (Dense)             (None, 10)                5130      \n",
      "=================================================================\n",
      "Total params: 572,458\n",
      "Trainable params: 572,458\n",
      "Non-trainable params: 0\n",
      "_________________________________________________________________\n"
     ]
    }
   ],
   "source": [
    "model.summary()"
   ]
  },
  {
   "cell_type": "code",
   "execution_count": 29,
   "metadata": {
    "collapsed": true
   },
   "outputs": [],
   "source": [
    "model.compile(optimizer='rmsprop', loss='categorical_crossentropy', metrics=['accuracy'])"
   ]
  },
  {
   "cell_type": "code",
   "execution_count": 30,
   "metadata": {
    "collapsed": true
   },
   "outputs": [],
   "source": [
    "earlystop = ModelCheckpoint(filepath='mnist.hd5', verbose=1, save_best_only=True)"
   ]
  },
  {
   "cell_type": "code",
   "execution_count": 31,
   "metadata": {},
   "outputs": [
    {
     "name": "stdout",
     "output_type": "stream",
     "text": [
      "Train on 48000 samples, validate on 12000 samples\n",
      "Epoch 1/100\n",
      "47616/48000 [============================>.] - ETA: 0s - loss: 0.6128 - acc: 0.7970Epoch 00000: val_loss improved from inf to 0.29808, saving model to mnist.hd5\n",
      "48000/48000 [==============================] - 0s - loss: 0.6111 - acc: 0.7976 - val_loss: 0.2981 - val_acc: 0.9052\n",
      "Epoch 2/100\n",
      "43008/48000 [=========================>....] - ETA: 0s - loss: 0.2564 - acc: 0.9212Epoch 00001: val_loss improved from 0.29808 to 0.18111, saving model to mnist.hd5\n",
      "48000/48000 [==============================] - 0s - loss: 0.2529 - acc: 0.9224 - val_loss: 0.1811 - val_acc: 0.9445\n",
      "Epoch 3/100\n",
      "43520/48000 [==========================>...] - ETA: 0s - loss: 0.1802 - acc: 0.9443Epoch 00002: val_loss improved from 0.18111 to 0.13492, saving model to mnist.hd5\n",
      "48000/48000 [==============================] - 0s - loss: 0.1791 - acc: 0.9448 - val_loss: 0.1349 - val_acc: 0.9584\n",
      "Epoch 4/100\n",
      "43520/48000 [==========================>...] - ETA: 0s - loss: 0.1459 - acc: 0.9550Epoch 00003: val_loss did not improve\n",
      "48000/48000 [==============================] - 0s - loss: 0.1448 - acc: 0.9556 - val_loss: 0.1372 - val_acc: 0.9569\n",
      "Epoch 5/100\n",
      "47104/48000 [============================>.] - ETA: 0s - loss: 0.1186 - acc: 0.9624Epoch 00004: val_loss improved from 0.13492 to 0.12391, saving model to mnist.hd5\n",
      "48000/48000 [==============================] - 0s - loss: 0.1177 - acc: 0.9627 - val_loss: 0.1239 - val_acc: 0.9638\n",
      "Epoch 6/100\n",
      "43520/48000 [==========================>...] - ETA: 0s - loss: 0.1015 - acc: 0.9682Epoch 00005: val_loss improved from 0.12391 to 0.09949, saving model to mnist.hd5\n",
      "48000/48000 [==============================] - 0s - loss: 0.1016 - acc: 0.9680 - val_loss: 0.0995 - val_acc: 0.9697\n",
      "Epoch 7/100\n",
      "43008/48000 [=========================>....] - ETA: 0s - loss: 0.0843 - acc: 0.9731Epoch 00006: val_loss did not improve\n",
      "48000/48000 [==============================] - 0s - loss: 0.0865 - acc: 0.9724 - val_loss: 0.1025 - val_acc: 0.9686\n",
      "Epoch 8/100\n",
      "47616/48000 [============================>.] - ETA: 0s - loss: 0.0772 - acc: 0.9752Epoch 00007: val_loss improved from 0.09949 to 0.09804, saving model to mnist.hd5\n",
      "48000/48000 [==============================] - 0s - loss: 0.0772 - acc: 0.9751 - val_loss: 0.0980 - val_acc: 0.9715\n",
      "Epoch 9/100\n",
      "43520/48000 [==========================>...] - ETA: 0s - loss: 0.0686 - acc: 0.9782Epoch 00008: val_loss improved from 0.09804 to 0.09203, saving model to mnist.hd5\n",
      "48000/48000 [==============================] - 0s - loss: 0.0692 - acc: 0.9783 - val_loss: 0.0920 - val_acc: 0.9745\n",
      "Epoch 10/100\n",
      "43008/48000 [=========================>....] - ETA: 0s - loss: 0.0595 - acc: 0.9811Epoch 00009: val_loss did not improve\n",
      "48000/48000 [==============================] - 0s - loss: 0.0595 - acc: 0.9810 - val_loss: 0.1233 - val_acc: 0.9667\n",
      "Epoch 11/100\n",
      "47616/48000 [============================>.] - ETA: 0s - loss: 0.0547 - acc: 0.9823Epoch 00010: val_loss did not improve\n",
      "48000/48000 [==============================] - 0s - loss: 0.0545 - acc: 0.9823 - val_loss: 0.0937 - val_acc: 0.9738\n",
      "Epoch 12/100\n",
      "43520/48000 [==========================>...] - ETA: 0s - loss: 0.0497 - acc: 0.9833Epoch 00011: val_loss improved from 0.09203 to 0.08910, saving model to mnist.hd5\n",
      "48000/48000 [==============================] - 0s - loss: 0.0501 - acc: 0.9832 - val_loss: 0.0891 - val_acc: 0.9748\n",
      "Epoch 13/100\n",
      "43008/48000 [=========================>....] - ETA: 0s - loss: 0.0438 - acc: 0.9856Epoch 00012: val_loss did not improve\n",
      "48000/48000 [==============================] - 0s - loss: 0.0441 - acc: 0.9856 - val_loss: 0.1009 - val_acc: 0.9725\n",
      "Epoch 14/100\n",
      "43520/48000 [==========================>...] - ETA: 0s - loss: 0.0416 - acc: 0.9861Epoch 00013: val_loss did not improve\n",
      "48000/48000 [==============================] - 0s - loss: 0.0416 - acc: 0.9861 - val_loss: 0.1087 - val_acc: 0.9717\n",
      "Epoch 15/100\n",
      "43008/48000 [=========================>....] - ETA: 0s - loss: 0.0393 - acc: 0.9867Epoch 00014: val_loss did not improve\n",
      "48000/48000 [==============================] - 0s - loss: 0.0392 - acc: 0.9866 - val_loss: 0.1087 - val_acc: 0.9722\n",
      "Epoch 16/100\n",
      "47616/48000 [============================>.] - ETA: 0s - loss: 0.0346 - acc: 0.9892Epoch 00015: val_loss did not improve\n",
      "48000/48000 [==============================] - 0s - loss: 0.0348 - acc: 0.9891 - val_loss: 0.0940 - val_acc: 0.9777\n",
      "Epoch 17/100\n",
      "43520/48000 [==========================>...] - ETA: 0s - loss: 0.0328 - acc: 0.9897Epoch 00016: val_loss did not improve\n",
      "48000/48000 [==============================] - 0s - loss: 0.0333 - acc: 0.9895 - val_loss: 0.0926 - val_acc: 0.9778\n",
      "Epoch 18/100\n",
      "47104/48000 [============================>.] - ETA: 0s - loss: 0.0289 - acc: 0.9903Epoch 00017: val_loss did not improve\n",
      "48000/48000 [==============================] - 0s - loss: 0.0287 - acc: 0.9903 - val_loss: 0.0992 - val_acc: 0.9777\n",
      "Epoch 19/100\n",
      "44032/48000 [==========================>...] - ETA: 0s - loss: 0.0280 - acc: 0.9909Epoch 00018: val_loss did not improve\n",
      "48000/48000 [==============================] - 0s - loss: 0.0286 - acc: 0.9907 - val_loss: 0.0900 - val_acc: 0.9787\n",
      "Epoch 20/100\n",
      "45056/48000 [===========================>..] - ETA: 0s - loss: 0.0263 - acc: 0.9915Epoch 00019: val_loss did not improve\n",
      "48000/48000 [==============================] - 0s - loss: 0.0267 - acc: 0.9913 - val_loss: 0.0947 - val_acc: 0.9789\n",
      "Epoch 21/100\n",
      "44032/48000 [==========================>...] - ETA: 0s - loss: 0.0258 - acc: 0.9913Epoch 00020: val_loss did not improve\n",
      "48000/48000 [==============================] - 0s - loss: 0.0253 - acc: 0.9914 - val_loss: 0.0919 - val_acc: 0.9783\n",
      "Epoch 22/100\n",
      "47616/48000 [============================>.] - ETA: 0s - loss: 0.0236 - acc: 0.9920Epoch 00021: val_loss did not improve\n",
      "48000/48000 [==============================] - 0s - loss: 0.0235 - acc: 0.9920 - val_loss: 0.0925 - val_acc: 0.9796\n",
      "Epoch 23/100\n",
      "43520/48000 [==========================>...] - ETA: 0s - loss: 0.0241 - acc: 0.9922Epoch 00022: val_loss did not improve\n",
      "48000/48000 [==============================] - 0s - loss: 0.0236 - acc: 0.9924 - val_loss: 0.1013 - val_acc: 0.9790\n",
      "Epoch 24/100\n",
      "45056/48000 [===========================>..] - ETA: 0s - loss: 0.0224 - acc: 0.9926Epoch 00023: val_loss did not improve\n",
      "48000/48000 [==============================] - 0s - loss: 0.0219 - acc: 0.9927 - val_loss: 0.0966 - val_acc: 0.9789\n",
      "Epoch 25/100\n",
      "42496/48000 [=========================>....] - ETA: 0s - loss: 0.0217 - acc: 0.9931Epoch 00024: val_loss did not improve\n",
      "48000/48000 [==============================] - 0s - loss: 0.0217 - acc: 0.9931 - val_loss: 0.0918 - val_acc: 0.9793\n",
      "Epoch 26/100\n",
      "44544/48000 [==========================>...] - ETA: 0s - loss: 0.0224 - acc: 0.9925Epoch 00025: val_loss did not improve\n",
      "48000/48000 [==============================] - 0s - loss: 0.0218 - acc: 0.9926 - val_loss: 0.1068 - val_acc: 0.9778\n",
      "Epoch 27/100\n",
      "44544/48000 [==========================>...] - ETA: 0s - loss: 0.0191 - acc: 0.9939Epoch 00026: val_loss did not improve\n",
      "48000/48000 [==============================] - 0s - loss: 0.0190 - acc: 0.9938 - val_loss: 0.1169 - val_acc: 0.9771\n",
      "Epoch 28/100\n",
      "44032/48000 [==========================>...] - ETA: 0s - loss: 0.0202 - acc: 0.9940Epoch 00027: val_loss did not improve\n",
      "48000/48000 [==============================] - 0s - loss: 0.0204 - acc: 0.9940 - val_loss: 0.1049 - val_acc: 0.9795\n",
      "Epoch 29/100\n",
      "46592/48000 [============================>.] - ETA: 0s - loss: 0.0190 - acc: 0.9941Epoch 00028: val_loss did not improve\n",
      "48000/48000 [==============================] - 0s - loss: 0.0191 - acc: 0.9941 - val_loss: 0.1153 - val_acc: 0.9758\n",
      "Epoch 30/100\n",
      "45056/48000 [===========================>..] - ETA: 0s - loss: 0.0179 - acc: 0.9941Epoch 00029: val_loss did not improve\n",
      "48000/48000 [==============================] - 0s - loss: 0.0175 - acc: 0.9942 - val_loss: 0.1220 - val_acc: 0.9762\n",
      "Epoch 31/100\n",
      "45056/48000 [===========================>..] - ETA: 0s - loss: 0.0175 - acc: 0.9942Epoch 00030: val_loss did not improve\n",
      "48000/48000 [==============================] - 0s - loss: 0.0174 - acc: 0.9943 - val_loss: 0.1149 - val_acc: 0.9784\n",
      "Epoch 32/100\n"
     ]
    },
    {
     "name": "stdout",
     "output_type": "stream",
     "text": [
      "45568/48000 [===========================>..] - ETA: 0s - loss: 0.0167 - acc: 0.9946Epoch 00031: val_loss did not improve\n",
      "48000/48000 [==============================] - 0s - loss: 0.0172 - acc: 0.9945 - val_loss: 0.1207 - val_acc: 0.9787\n",
      "Epoch 33/100\n",
      "43520/48000 [==========================>...] - ETA: 0s - loss: 0.0166 - acc: 0.9950Epoch 00032: val_loss did not improve\n",
      "48000/48000 [==============================] - 0s - loss: 0.0162 - acc: 0.9950 - val_loss: 0.1193 - val_acc: 0.9800\n",
      "Epoch 34/100\n",
      "43520/48000 [==========================>...] - ETA: 0s - loss: 0.0151 - acc: 0.9951Epoch 00033: val_loss did not improve\n",
      "48000/48000 [==============================] - 0s - loss: 0.0156 - acc: 0.9950 - val_loss: 0.1144 - val_acc: 0.9803\n",
      "Epoch 35/100\n",
      "46080/48000 [===========================>..] - ETA: 0s - loss: 0.0157 - acc: 0.9953Epoch 00034: val_loss did not improve\n",
      "48000/48000 [==============================] - 0s - loss: 0.0157 - acc: 0.9954 - val_loss: 0.1200 - val_acc: 0.9789\n",
      "Epoch 36/100\n",
      "43520/48000 [==========================>...] - ETA: 0s - loss: 0.0143 - acc: 0.9955Epoch 00035: val_loss did not improve\n",
      "48000/48000 [==============================] - 0s - loss: 0.0142 - acc: 0.9954 - val_loss: 0.1140 - val_acc: 0.9797\n",
      "Epoch 37/100\n",
      "43520/48000 [==========================>...] - ETA: 0s - loss: 0.0158 - acc: 0.9950Epoch 00036: val_loss did not improve\n",
      "48000/48000 [==============================] - 0s - loss: 0.0164 - acc: 0.9949 - val_loss: 0.1290 - val_acc: 0.9786\n",
      "Epoch 38/100\n",
      "45056/48000 [===========================>..] - ETA: 0s - loss: 0.0180 - acc: 0.9948Epoch 00037: val_loss did not improve\n",
      "48000/48000 [==============================] - 0s - loss: 0.0177 - acc: 0.9948 - val_loss: 0.1234 - val_acc: 0.9764\n",
      "Epoch 39/100\n",
      "45056/48000 [===========================>..] - ETA: 0s - loss: 0.0143 - acc: 0.9953Epoch 00038: val_loss did not improve\n",
      "48000/48000 [==============================] - 0s - loss: 0.0147 - acc: 0.9952 - val_loss: 0.1124 - val_acc: 0.9796\n",
      "Epoch 40/100\n",
      "43008/48000 [=========================>....] - ETA: 0s - loss: 0.0152 - acc: 0.9956Epoch 00039: val_loss did not improve\n",
      "48000/48000 [==============================] - 0s - loss: 0.0150 - acc: 0.9957 - val_loss: 0.1151 - val_acc: 0.9793\n",
      "Epoch 41/100\n",
      "47104/48000 [============================>.] - ETA: 0s - loss: 0.0136 - acc: 0.9957Epoch 00040: val_loss did not improve\n",
      "48000/48000 [==============================] - 0s - loss: 0.0138 - acc: 0.9957 - val_loss: 0.1175 - val_acc: 0.9792\n",
      "Epoch 42/100\n",
      "44544/48000 [==========================>...] - ETA: 0s - loss: 0.0153 - acc: 0.9956Epoch 00041: val_loss did not improve\n",
      "48000/48000 [==============================] - 0s - loss: 0.0155 - acc: 0.9955 - val_loss: 0.1152 - val_acc: 0.9813\n",
      "Epoch 43/100\n",
      "44032/48000 [==========================>...] - ETA: 0s - loss: 0.0138 - acc: 0.9955Epoch 00042: val_loss did not improve\n",
      "48000/48000 [==============================] - 0s - loss: 0.0139 - acc: 0.9955 - val_loss: 0.1187 - val_acc: 0.9809\n",
      "Epoch 44/100\n",
      "43008/48000 [=========================>....] - ETA: 0s - loss: 0.0155 - acc: 0.9953Epoch 00043: val_loss did not improve\n",
      "48000/48000 [==============================] - 0s - loss: 0.0149 - acc: 0.9955 - val_loss: 0.1123 - val_acc: 0.9801\n",
      "Epoch 45/100\n",
      "43008/48000 [=========================>....] - ETA: 0s - loss: 0.0136 - acc: 0.9959Epoch 00044: val_loss did not improve\n",
      "48000/48000 [==============================] - 0s - loss: 0.0138 - acc: 0.9958 - val_loss: 0.1217 - val_acc: 0.9783\n",
      "Epoch 46/100\n",
      "43008/48000 [=========================>....] - ETA: 0s - loss: 0.0130 - acc: 0.9963Epoch 00045: val_loss did not improve\n",
      "48000/48000 [==============================] - 0s - loss: 0.0130 - acc: 0.9962 - val_loss: 0.1204 - val_acc: 0.9797\n",
      "Epoch 47/100\n",
      "42496/48000 [=========================>....] - ETA: 0s - loss: 0.0141 - acc: 0.9959Epoch 00046: val_loss did not improve\n",
      "48000/48000 [==============================] - 0s - loss: 0.0140 - acc: 0.9958 - val_loss: 0.1252 - val_acc: 0.9802\n",
      "Epoch 48/100\n",
      "44032/48000 [==========================>...] - ETA: 0s - loss: 0.0137 - acc: 0.9961Epoch 00047: val_loss did not improve\n",
      "48000/48000 [==============================] - 0s - loss: 0.0137 - acc: 0.9961 - val_loss: 0.1244 - val_acc: 0.9784\n",
      "Epoch 49/100\n",
      "44032/48000 [==========================>...] - ETA: 0s - loss: 0.0135 - acc: 0.9961Epoch 00048: val_loss did not improve\n",
      "48000/48000 [==============================] - 0s - loss: 0.0135 - acc: 0.9961 - val_loss: 0.1158 - val_acc: 0.9807\n",
      "Epoch 50/100\n",
      "43520/48000 [==========================>...] - ETA: 0s - loss: 0.0133 - acc: 0.9963Epoch 00049: val_loss did not improve\n",
      "48000/48000 [==============================] - 0s - loss: 0.0130 - acc: 0.9964 - val_loss: 0.1298 - val_acc: 0.9803\n",
      "Epoch 51/100\n",
      "47104/48000 [============================>.] - ETA: 0s - loss: 0.0126 - acc: 0.9967Epoch 00050: val_loss did not improve\n",
      "48000/48000 [==============================] - 0s - loss: 0.0127 - acc: 0.9966 - val_loss: 0.1371 - val_acc: 0.9783\n",
      "Epoch 52/100\n",
      "43520/48000 [==========================>...] - ETA: 0s - loss: 0.0126 - acc: 0.9960Epoch 00051: val_loss did not improve\n",
      "48000/48000 [==============================] - 0s - loss: 0.0128 - acc: 0.9960 - val_loss: 0.1238 - val_acc: 0.9794\n",
      "Epoch 53/100\n",
      "44032/48000 [==========================>...] - ETA: 0s - loss: 0.0122 - acc: 0.9965Epoch 00052: val_loss did not improve\n",
      "48000/48000 [==============================] - 0s - loss: 0.0126 - acc: 0.9965 - val_loss: 0.1326 - val_acc: 0.9787\n",
      "Epoch 54/100\n",
      "43008/48000 [=========================>....] - ETA: 0s - loss: 0.0103 - acc: 0.9969Epoch 00053: val_loss did not improve\n",
      "48000/48000 [==============================] - 0s - loss: 0.0108 - acc: 0.9969 - val_loss: 0.1479 - val_acc: 0.9788\n",
      "Epoch 55/100\n",
      "44032/48000 [==========================>...] - ETA: 0s - loss: 0.0098 - acc: 0.9968Epoch 00054: val_loss did not improve\n",
      "48000/48000 [==============================] - 0s - loss: 0.0102 - acc: 0.9968 - val_loss: 0.1468 - val_acc: 0.9781\n",
      "Epoch 56/100\n",
      "43008/48000 [=========================>....] - ETA: 0s - loss: 0.0138 - acc: 0.9967Epoch 00055: val_loss did not improve\n",
      "48000/48000 [==============================] - 0s - loss: 0.0141 - acc: 0.9965 - val_loss: 0.1305 - val_acc: 0.9800\n",
      "Epoch 57/100\n",
      "42496/48000 [=========================>....] - ETA: 0s - loss: 0.0138 - acc: 0.9965Epoch 00056: val_loss did not improve\n",
      "48000/48000 [==============================] - 0s - loss: 0.0133 - acc: 0.9965 - val_loss: 0.1295 - val_acc: 0.9799\n",
      "Epoch 58/100\n",
      "45056/48000 [===========================>..] - ETA: 0s - loss: 0.0133 - acc: 0.9962Epoch 00057: val_loss did not improve\n",
      "48000/48000 [==============================] - 0s - loss: 0.0129 - acc: 0.9964 - val_loss: 0.1291 - val_acc: 0.9813\n",
      "Epoch 59/100\n",
      "43008/48000 [=========================>....] - ETA: 0s - loss: 0.0107 - acc: 0.9969Epoch 00058: val_loss did not improve\n",
      "48000/48000 [==============================] - 0s - loss: 0.0111 - acc: 0.9968 - val_loss: 0.1446 - val_acc: 0.9784\n",
      "Epoch 60/100\n",
      "43520/48000 [==========================>...] - ETA: 0s - loss: 0.0145 - acc: 0.9962Epoch 00059: val_loss did not improve\n",
      "48000/48000 [==============================] - 0s - loss: 0.0147 - acc: 0.9961 - val_loss: 0.1300 - val_acc: 0.9804\n",
      "Epoch 61/100\n",
      "45568/48000 [===========================>..] - ETA: 0s - loss: 0.0108 - acc: 0.9967Epoch 00060: val_loss did not improve\n",
      "48000/48000 [==============================] - 0s - loss: 0.0109 - acc: 0.9966 - val_loss: 0.1268 - val_acc: 0.9787\n",
      "Epoch 62/100\n",
      "44032/48000 [==========================>...] - ETA: 0s - loss: 0.0104 - acc: 0.9974Epoch 00061: val_loss did not improve\n",
      "48000/48000 [==============================] - 0s - loss: 0.0107 - acc: 0.9972 - val_loss: 0.1260 - val_acc: 0.9815\n",
      "Epoch 63/100\n",
      "43520/48000 [==========================>...] - ETA: 0s - loss: 0.0103 - acc: 0.9972Epoch 00062: val_loss did not improve\n",
      "48000/48000 [==============================] - 0s - loss: 0.0112 - acc: 0.9970 - val_loss: 0.1321 - val_acc: 0.9799\n",
      "Epoch 64/100\n",
      "45056/48000 [===========================>..] - ETA: 0s - loss: 0.0126 - acc: 0.9966Epoch 00063: val_loss did not improve\n"
     ]
    },
    {
     "name": "stdout",
     "output_type": "stream",
     "text": [
      "48000/48000 [==============================] - 0s - loss: 0.0127 - acc: 0.9965 - val_loss: 0.1314 - val_acc: 0.9808\n",
      "Epoch 65/100\n",
      "44032/48000 [==========================>...] - ETA: 0s - loss: 0.0114 - acc: 0.9966Epoch 00064: val_loss did not improve\n",
      "48000/48000 [==============================] - 0s - loss: 0.0115 - acc: 0.9965 - val_loss: 0.1177 - val_acc: 0.9813\n",
      "Epoch 66/100\n",
      "44032/48000 [==========================>...] - ETA: 0s - loss: 0.0112 - acc: 0.9967Epoch 00065: val_loss did not improve\n",
      "48000/48000 [==============================] - 0s - loss: 0.0110 - acc: 0.9967 - val_loss: 0.1399 - val_acc: 0.9802\n",
      "Epoch 67/100\n",
      "43520/48000 [==========================>...] - ETA: 0s - loss: 0.0119 - acc: 0.9970Epoch 00066: val_loss did not improve\n",
      "48000/48000 [==============================] - 0s - loss: 0.0121 - acc: 0.9969 - val_loss: 0.1365 - val_acc: 0.9803\n",
      "Epoch 68/100\n",
      "47104/48000 [============================>.] - ETA: 0s - loss: 0.0092 - acc: 0.9973Epoch 00067: val_loss did not improve\n",
      "48000/48000 [==============================] - 0s - loss: 0.0093 - acc: 0.9973 - val_loss: 0.1550 - val_acc: 0.9788\n",
      "Epoch 69/100\n",
      "43520/48000 [==========================>...] - ETA: 0s - loss: 0.0122 - acc: 0.9968Epoch 00068: val_loss did not improve\n",
      "48000/48000 [==============================] - 0s - loss: 0.0124 - acc: 0.9968 - val_loss: 0.1517 - val_acc: 0.9799\n",
      "Epoch 70/100\n",
      "42496/48000 [=========================>....] - ETA: 0s - loss: 0.0110 - acc: 0.9970Epoch 00069: val_loss did not improve\n",
      "48000/48000 [==============================] - 0s - loss: 0.0109 - acc: 0.9970 - val_loss: 0.1403 - val_acc: 0.9785\n",
      "Epoch 71/100\n",
      "47616/48000 [============================>.] - ETA: 0s - loss: 0.0109 - acc: 0.9972Epoch 00070: val_loss did not improve\n",
      "48000/48000 [==============================] - 0s - loss: 0.0108 - acc: 0.9972 - val_loss: 0.1305 - val_acc: 0.9809\n",
      "Epoch 72/100\n",
      "45056/48000 [===========================>..] - ETA: 0s - loss: 0.0090 - acc: 0.9975Epoch 00071: val_loss did not improve\n",
      "48000/48000 [==============================] - 0s - loss: 0.0107 - acc: 0.9972 - val_loss: 0.1501 - val_acc: 0.9777\n",
      "Epoch 73/100\n",
      "44544/48000 [==========================>...] - ETA: 0s - loss: 0.0132 - acc: 0.9964Epoch 00072: val_loss did not improve\n",
      "48000/48000 [==============================] - 0s - loss: 0.0128 - acc: 0.9965 - val_loss: 0.1374 - val_acc: 0.9802\n",
      "Epoch 74/100\n",
      "43008/48000 [=========================>....] - ETA: 0s - loss: 0.0118 - acc: 0.9968Epoch 00073: val_loss did not improve\n",
      "48000/48000 [==============================] - 0s - loss: 0.0117 - acc: 0.9968 - val_loss: 0.1351 - val_acc: 0.9812\n",
      "Epoch 75/100\n",
      "47104/48000 [============================>.] - ETA: 0s - loss: 0.0109 - acc: 0.9973Epoch 00074: val_loss did not improve\n",
      "48000/48000 [==============================] - 0s - loss: 0.0108 - acc: 0.9973 - val_loss: 0.1358 - val_acc: 0.9803\n",
      "Epoch 76/100\n",
      "43008/48000 [=========================>....] - ETA: 0s - loss: 0.0119 - acc: 0.9970Epoch 00075: val_loss did not improve\n",
      "48000/48000 [==============================] - 0s - loss: 0.0118 - acc: 0.9970 - val_loss: 0.1283 - val_acc: 0.9808\n",
      "Epoch 77/100\n",
      "43520/48000 [==========================>...] - ETA: 0s - loss: 0.0094 - acc: 0.9973Epoch 00076: val_loss did not improve\n",
      "48000/48000 [==============================] - 0s - loss: 0.0099 - acc: 0.9972 - val_loss: 0.1380 - val_acc: 0.9793\n",
      "Epoch 78/100\n",
      "43520/48000 [==========================>...] - ETA: 0s - loss: 0.0104 - acc: 0.9973Epoch 00077: val_loss did not improve\n",
      "48000/48000 [==============================] - 0s - loss: 0.0102 - acc: 0.9973 - val_loss: 0.1424 - val_acc: 0.9807\n",
      "Epoch 79/100\n",
      "43008/48000 [=========================>....] - ETA: 0s - loss: 0.0097 - acc: 0.9975Epoch 00078: val_loss did not improve\n",
      "48000/48000 [==============================] - 0s - loss: 0.0102 - acc: 0.9974 - val_loss: 0.1444 - val_acc: 0.9799\n",
      "Epoch 80/100\n",
      "47616/48000 [============================>.] - ETA: 0s - loss: 0.0104 - acc: 0.9975Epoch 00079: val_loss did not improve\n",
      "48000/48000 [==============================] - 0s - loss: 0.0104 - acc: 0.9975 - val_loss: 0.1471 - val_acc: 0.9807\n",
      "Epoch 81/100\n",
      "43008/48000 [=========================>....] - ETA: 0s - loss: 0.0085 - acc: 0.9979Epoch 00080: val_loss did not improve\n",
      "48000/48000 [==============================] - 0s - loss: 0.0085 - acc: 0.9978 - val_loss: 0.1441 - val_acc: 0.9814\n",
      "Epoch 82/100\n",
      "44032/48000 [==========================>...] - ETA: 0s - loss: 0.0106 - acc: 0.9975Epoch 00081: val_loss did not improve\n",
      "48000/48000 [==============================] - 0s - loss: 0.0108 - acc: 0.9974 - val_loss: 0.1554 - val_acc: 0.9801\n",
      "Epoch 83/100\n",
      "43520/48000 [==========================>...] - ETA: 0s - loss: 0.0119 - acc: 0.9972Epoch 00082: val_loss did not improve\n",
      "48000/48000 [==============================] - 0s - loss: 0.0120 - acc: 0.9970 - val_loss: 0.1493 - val_acc: 0.9803\n",
      "Epoch 84/100\n",
      "47616/48000 [============================>.] - ETA: 0s - loss: 0.0105 - acc: 0.9972Epoch 00083: val_loss did not improve\n",
      "48000/48000 [==============================] - 0s - loss: 0.0104 - acc: 0.9972 - val_loss: 0.1466 - val_acc: 0.9797\n",
      "Epoch 85/100\n",
      "44032/48000 [==========================>...] - ETA: 0s - loss: 0.0100 - acc: 0.9970Epoch 00084: val_loss did not improve\n",
      "48000/48000 [==============================] - 0s - loss: 0.0093 - acc: 0.9971 - val_loss: 0.1527 - val_acc: 0.9805\n",
      "Epoch 86/100\n",
      "44032/48000 [==========================>...] - ETA: 0s - loss: 0.0114 - acc: 0.9972Epoch 00085: val_loss did not improve\n",
      "48000/48000 [==============================] - 0s - loss: 0.0111 - acc: 0.9972 - val_loss: 0.1361 - val_acc: 0.9804\n",
      "Epoch 87/100\n",
      "44032/48000 [==========================>...] - ETA: 0s - loss: 0.0104 - acc: 0.9977Epoch 00086: val_loss did not improve\n",
      "48000/48000 [==============================] - 0s - loss: 0.0108 - acc: 0.9974 - val_loss: 0.1487 - val_acc: 0.9789\n",
      "Epoch 88/100\n",
      "43520/48000 [==========================>...] - ETA: 0s - loss: 0.0104 - acc: 0.9972Epoch 00087: val_loss did not improve\n",
      "48000/48000 [==============================] - 0s - loss: 0.0107 - acc: 0.9972 - val_loss: 0.1531 - val_acc: 0.9807\n",
      "Epoch 89/100\n",
      "47616/48000 [============================>.] - ETA: 0s - loss: 0.0104 - acc: 0.9967Epoch 00088: val_loss did not improve\n",
      "48000/48000 [==============================] - 0s - loss: 0.0105 - acc: 0.9967 - val_loss: 0.1420 - val_acc: 0.9808\n",
      "Epoch 90/100\n",
      "43008/48000 [=========================>....] - ETA: 0s - loss: 0.0111 - acc: 0.9975Epoch 00089: val_loss did not improve\n",
      "48000/48000 [==============================] - 0s - loss: 0.0118 - acc: 0.9974 - val_loss: 0.1501 - val_acc: 0.9800\n",
      "Epoch 91/100\n",
      "43520/48000 [==========================>...] - ETA: 0s - loss: 0.0118 - acc: 0.9969Epoch 00090: val_loss did not improve\n",
      "48000/48000 [==============================] - 0s - loss: 0.0126 - acc: 0.9969 - val_loss: 0.1389 - val_acc: 0.9803\n",
      "Epoch 92/100\n",
      "44544/48000 [==========================>...] - ETA: 0s - loss: 0.0099 - acc: 0.9973Epoch 00091: val_loss did not improve\n",
      "48000/48000 [==============================] - 0s - loss: 0.0103 - acc: 0.9972 - val_loss: 0.1404 - val_acc: 0.9815\n",
      "Epoch 93/100\n",
      "43520/48000 [==========================>...] - ETA: 0s - loss: 0.0090 - acc: 0.9978Epoch 00092: val_loss did not improve\n",
      "48000/48000 [==============================] - 0s - loss: 0.0092 - acc: 0.9978 - val_loss: 0.1582 - val_acc: 0.9796\n",
      "Epoch 94/100\n",
      "44032/48000 [==========================>...] - ETA: 0s - loss: 0.0118 - acc: 0.9974Epoch 00093: val_loss did not improve\n",
      "48000/48000 [==============================] - 0s - loss: 0.0114 - acc: 0.9975 - val_loss: 0.1588 - val_acc: 0.9802\n",
      "Epoch 95/100\n",
      "44544/48000 [==========================>...] - ETA: 0s - loss: 0.0089 - acc: 0.9978Epoch 00094: val_loss did not improve\n",
      "48000/48000 [==============================] - 0s - loss: 0.0093 - acc: 0.9978 - val_loss: 0.1577 - val_acc: 0.9811\n",
      "Epoch 96/100\n",
      "45056/48000 [===========================>..] - ETA: 0s - loss: 0.0107 - acc: 0.9974Epoch 00095: val_loss did not improve\n",
      "48000/48000 [==============================] - 0s - loss: 0.0109 - acc: 0.9973 - val_loss: 0.1422 - val_acc: 0.9800\n",
      "Epoch 97/100\n"
     ]
    },
    {
     "name": "stdout",
     "output_type": "stream",
     "text": [
      "44032/48000 [==========================>...] - ETA: 0s - loss: 0.0117 - acc: 0.9972Epoch 00096: val_loss did not improve\n",
      "48000/48000 [==============================] - 0s - loss: 0.0114 - acc: 0.9973 - val_loss: 0.1471 - val_acc: 0.9807\n",
      "Epoch 98/100\n",
      "44544/48000 [==========================>...] - ETA: 0s - loss: 0.0095 - acc: 0.9975Epoch 00097: val_loss did not improve\n",
      "48000/48000 [==============================] - 0s - loss: 0.0093 - acc: 0.9975 - val_loss: 0.1624 - val_acc: 0.9812\n",
      "Epoch 99/100\n",
      "43520/48000 [==========================>...] - ETA: 0s - loss: 0.0096 - acc: 0.9977Epoch 00098: val_loss did not improve\n",
      "48000/48000 [==============================] - 0s - loss: 0.0096 - acc: 0.9977 - val_loss: 0.1644 - val_acc: 0.9802\n",
      "Epoch 100/100\n",
      "43520/48000 [==========================>...] - ETA: 0s - loss: 0.0099 - acc: 0.9976Epoch 00099: val_loss did not improve\n",
      "48000/48000 [==============================] - 0s - loss: 0.0096 - acc: 0.9977 - val_loss: 0.1641 - val_acc: 0.9787\n"
     ]
    },
    {
     "data": {
      "text/plain": [
       "<keras.callbacks.History at 0x7f56a834f6d8>"
      ]
     },
     "execution_count": 31,
     "metadata": {},
     "output_type": "execute_result"
    }
   ],
   "source": [
    "model.fit(x_train, y_train_encoded, epochs=100, batch_size=512, \n",
    "          callbacks=[earlystop], validation_split=0.2, shuffle=True)"
   ]
  },
  {
   "cell_type": "code",
   "execution_count": 32,
   "metadata": {
    "collapsed": true
   },
   "outputs": [],
   "source": [
    "model.load_weights('mnist.hd5')"
   ]
  },
  {
   "cell_type": "code",
   "execution_count": 33,
   "metadata": {},
   "outputs": [
    {
     "name": "stdout",
     "output_type": "stream",
     "text": [
      " 9280/10000 [==========================>...] - ETA: 0s"
     ]
    },
    {
     "data": {
      "text/plain": [
       "[0.079077360076887995, 0.97640000000000005]"
      ]
     },
     "execution_count": 33,
     "metadata": {},
     "output_type": "execute_result"
    }
   ],
   "source": [
    "model.evaluate(x_test, y_test_encoded, verbose=1)"
   ]
  }
 ],
 "metadata": {
  "kernelspec": {
   "display_name": "Python 3",
   "language": "python",
   "name": "python3"
  },
  "language_info": {
   "codemirror_mode": {
    "name": "ipython",
    "version": 3
   },
   "file_extension": ".py",
   "mimetype": "text/x-python",
   "name": "python",
   "nbconvert_exporter": "python",
   "pygments_lexer": "ipython3",
   "version": "3.5.3"
  }
 },
 "nbformat": 4,
 "nbformat_minor": 2
}
